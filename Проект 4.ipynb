{
 "cells": [
  {
   "cell_type": "markdown",
   "id": "eb858320",
   "metadata": {},
   "source": [
    "Выгружаем данные"
   ]
  },
  {
   "cell_type": "code",
   "id": "d5fd22de",
   "metadata": {
    "ExecuteTime": {
     "end_time": "2025-07-20T12:12:07.146153Z",
     "start_time": "2025-07-20T12:12:06.565715Z"
    }
   },
   "source": [
    "import pandas as pd\n",
    "import folium\n",
    "import re\n",
    "import json\n",
    "from folium.plugins import HeatMap, MarkerCluster\n"
   ],
   "outputs": [],
   "execution_count": 1
  },
  {
   "cell_type": "code",
   "id": "f2cad879",
   "metadata": {
    "ExecuteTime": {
     "end_time": "2025-07-20T12:12:09.062187Z",
     "start_time": "2025-07-20T12:12:07.162870Z"
    }
   },
   "source": "# Загрузка данных - используем первую строку как заголовки (английские названия)\nprivatization = pd.read_csv(\"privatization.csv\", sep=';', skiprows=1, low_memory=False)\nrent = pd.read_csv(\"rent.csv\", sep=';', skiprows=1, low_memory=False)\nland_plot = pd.read_csv(\"land_plot.csv\", sep=';', skiprows=1, low_memory=False)\npremises = pd.read_csv(\"premises.csv\", sep=';', skiprows=1, low_memory=False)\n\n# Пропускаем строку с русскими названиями\nprivatization = privatization.iloc[1:].reset_index(drop=True)\nrent = rent.iloc[1:].reset_index(drop=True)\nland_plot = land_plot.iloc[1:].reset_index(drop=True)\npremises = premises.iloc[1:].reset_index(drop=True)",
   "outputs": [],
   "execution_count": 2
  },
  {
   "cell_type": "markdown",
   "id": "4cd02c48",
   "metadata": {},
   "source": [
    "Создаем базовую карту"
   ]
  },
  {
   "cell_type": "code",
   "id": "af255766",
   "metadata": {
    "ExecuteTime": {
     "end_time": "2025-07-20T12:12:09.174005Z",
     "start_time": "2025-07-20T12:12:09.168655Z"
    }
   },
   "source": "# Создаем карту и FeatureGroup для каждого слоя\nm = folium.Map(location=[55.75, 37.61], zoom_start=10)\n\n# Группы для каждого слоя\nprivatization_group = folium.FeatureGroup(name='Объекты приватизации', show=False)\nrent_group = folium.FeatureGroup(name='Объекты аренды', show=False)\npremises_group = folium.FeatureGroup(name='Нежилые помещения', show=False)\nheatmap_group = folium.FeatureGroup(name='Плотность нежилых помещений', show=True)\nland_group = folium.FeatureGroup(name='Земельные участки', show=False)",
   "outputs": [],
   "execution_count": 3
  },
  {
   "cell_type": "markdown",
   "id": "65dce7c8",
   "metadata": {},
   "source": [
    "Создаем 1 слой (объекты приватизации)"
   ]
  },
  {
   "cell_type": "code",
   "id": "a9b06a1d",
   "metadata": {
    "ExecuteTime": {
     "end_time": "2025-07-20T12:12:13.900090Z",
     "start_time": "2025-07-20T12:12:09.208342Z"
    }
   },
   "source": "try:\n    privatization_cluster = MarkerCluster().add_to(privatization_group)\n    added_count = 0\n    \n    for idx, row in privatization.iterrows():\n        coords = None\n        \n        # Проверяем столбец \"Координаты объекта\" (формат \"lat,lon\")\n        if 'Координаты объекта' in row and pd.notna(row['Координаты объекта']) and str(row['Координаты объекта']).strip():\n            try:\n                coords_str = str(row['Координаты объекта'])\n                if ',' in coords_str:\n                    parts = coords_str.split(',')\n                    lat = float(parts[0].strip())\n                    lon = float(parts[1].strip())\n                    # Проверяем, что координаты в пределах Москвы\n                    if 54 < lat < 57 and 36 < lon < 39:\n                        coords = [lat, lon]\n            except:\n                pass\n        \n        # Если не нашли в \"Координаты объекта\", проверяем geoData\n        if not coords and 'geoData' in row and pd.notna(row['geoData']) and str(row['geoData']).strip():\n            try:\n                geo_str = str(row['geoData'])\n                if '{' in geo_str and 'coordinates' in geo_str:\n                    # Чистим строку для парсинга JSON\n                    geo_str_clean = geo_str.replace(\"coordinates=\", '\"coordinates\":').replace(\"type=\", '\"type\":')\n                    geo = json.loads(geo_str_clean)\n                    if geo['type'] == 'Point':\n                        # В GeoJSON формате: [lon, lat]\n                        lon = geo['coordinates'][0]\n                        lat = geo['coordinates'][1]\n                        if 54 < lat < 57 and 36 < lon < 39:\n                            coords = [lat, lon]\n            except:\n                pass\n        \n        if coords:\n            added_count += 1\n            folium.Marker(\n                coords,\n                popup=f\"\"\"<b>Адрес:</b> {row.get('Адрес', '')}<br>\n                       <b>Тип:</b> {row.get('Тип объекта', '')}<br>\n                       <b>Площадь:</b> {row.get('Площадь (кв. м)', '')} кв.м<br>\n                       <b>Стартовая цена:</b> {row.get('Стартовая цена (руб.)', '')} руб\"\"\",\n                icon=folium.Icon(icon='home', color='green')\n            ).add_to(privatization_cluster)\n    \n    # Добавляем слой на карту\n    privatization_group.add_to(m)\n    print(f\"Добавлено объектов приватизации: {added_count} из {len(privatization)}\")\nexcept Exception as e:\n    print(f\"Ошибка слоя приватизации: {e}\")",
   "outputs": [
    {
     "name": "stdout",
     "output_type": "stream",
     "text": [
      "Добавлено объектов приватизации: 85115 из 135645\n"
     ]
    }
   ],
   "execution_count": 4
  },
  {
   "cell_type": "markdown",
   "id": "d5b36a76",
   "metadata": {},
   "source": [
    "Создаем 2 слой (объекты аренды)"
   ]
  },
  {
   "cell_type": "code",
   "id": "0864f80a",
   "metadata": {
    "ExecuteTime": {
     "end_time": "2025-07-20T12:12:14.097839Z",
     "start_time": "2025-07-20T12:12:13.966488Z"
    }
   },
   "source": "try:\n    rent_cluster = MarkerCluster().add_to(rent_group)\n    added_count = 0\n    \n    for idx, row in rent.iterrows():\n        coords = None\n        \n        # Проверяем geoData (основной источник координат)\n        if 'geoData' in row and pd.notna(row['geoData']) and str(row['geoData']).strip():\n            try:\n                geo_str = str(row['geoData'])\n                # Используем регулярное выражение для извлечения координат\n                match = re.search(r'coordinates=\\[([0-9.]+),\\s*([0-9.]+)\\]', geo_str)\n                if match:\n                    lon = float(match.group(1))\n                    lat = float(match.group(2))\n                    # Проверяем, что координаты в пределах Московского региона\n                    if 54 < lat < 57 and 36 < lon < 39:\n                        coords = [lat, lon]\n            except Exception as e:\n                continue\n        \n        if coords:\n            added_count += 1\n            # Получаем площадь для размера маркера\n            try:\n                area = float(str(row.get('Площадь (кв. м)', '100')).replace(',', '.'))\n                radius = min(max(area / 50, 5), 20)  # Радиус от 5 до 20\n            except:\n                radius = 8\n            \n            # Получаем арендную плату\n            try:\n                rent_price = float(str(row.get('Начальный размер годовой арендной платы (руб.)', '0')).replace(',', '.'))\n                rent_formatted = f\"{rent_price:,.0f}\".replace(',', ' ')\n            except:\n                rent_formatted = \"не указана\"\n            \n            folium.CircleMarker(\n                coords,\n                radius=radius,\n                popup=f\"\"\"<b>Адрес:</b> {row.get('Адрес', '')}<br>\n                       <b>Площадь:</b> {row.get('Площадь (кв. м)', '')} кв.м<br>\n                       <b>Аренда:</b> {rent_formatted} руб/год<br>\n                       <b>Назначение:</b> {row.get('Назначение использования объекта нежилого фонда', 'не указано')}\"\"\",\n                color='blue',\n                fill=True,\n                fillColor='lightblue',\n                fillOpacity=0.7\n            ).add_to(rent_cluster)\n    \n    # Добавляем слой на карту\n    rent_group.add_to(m)\n    print(f\"Добавлено объектов аренды: {added_count} из {len(rent)}\")\nexcept Exception as e:\n    print(f\"Ошибка слоя аренды: {e}\")",
   "outputs": [
    {
     "name": "stdout",
     "output_type": "stream",
     "text": [
      "Добавлено объектов аренды: 2626 из 2626\n"
     ]
    }
   ],
   "execution_count": 5
  },
  {
   "cell_type": "markdown",
   "id": "0213f76b",
   "metadata": {},
   "source": [
    "Создаем 3 слой (нежилые помещения)"
   ]
  },
  {
   "cell_type": "code",
   "id": "3c8d1d0d",
   "metadata": {
    "ExecuteTime": {
     "end_time": "2025-07-20T12:12:17.017427Z",
     "start_time": "2025-07-20T12:12:14.132569Z"
    }
   },
   "source": "try:\n    # 1. Данные уже загружены в ячейке выше\n    \n    # 2. Проверка и подготовка данных\n    required_cols = ['Адрес', 'Площадь (кв.м.)', 'geoData']\n    for col in required_cols:\n        if col not in premises.columns:\n            raise ValueError(f\"Отсутствует обязательный столбец: {col}\")\n    \n    # Преобразуем площадь в числовой формат (уже числовой, просто копируем)\n    premises['Area'] = pd.to_numeric(premises['Площадь (кв.м.)'], errors='coerce')\n    \n    # 3. Улучшенная функция извлечения координат\n    def extract_coords_from_csv(geo_str):\n        try:\n            if pd.isna(geo_str) or not isinstance(geo_str, str):\n                return None\n                \n            # Используем регулярное выражение для извлечения координат\n            match = re.search(r'coordinates=\\[([0-9.]+),\\s*([0-9.]+)\\]', str(geo_str))\n            if match:\n                lon = float(match.group(1))\n                lat = float(match.group(2))\n                # Проверяем, что координаты в пределах Московского региона\n                if 54 < lat < 57 and 36 < lon < 39:\n                    return [lat, lon]\n                \n            return None\n        except Exception as e:\n            return None\n    \n    # 4. Обработка данных\n    heat_data = []\n    marker_cluster = MarkerCluster().add_to(premises_group)\n    added_count = 0\n    \n    for idx, row in premises.iterrows():\n        coords = extract_coords_from_csv(row['geoData'])\n        if coords and pd.notna(row['Area']) and row['Area'] > 0:\n            heat_data.append(coords)\n            added_count += 1\n            \n            # Добавляем маркер\n            folium.Marker(\n                coords,\n                popup=f\"\"\"\n                    <b>Адрес:</b> {row['Адрес']}<br>\n                    <b>Площадь:</b> {row['Area']:.1f} кв.м<br>\n                    <b>Район:</b> {row.get('Район', 'не указан')}\n                \"\"\",\n                icon=folium.Icon(icon='building', color='blue')\n            ).add_to(marker_cluster)\n    \n    # 5. Создаем тепловую карту\n    if heat_data:\n        HeatMap(\n            heat_data,\n            radius=15,\n            blur=20,\n            min_opacity=0.5,\n            gradient={0.4: 'blue', 0.6: 'lime', 1: 'red'}\n        ).add_to(heatmap_group)\n        print(f\"Успешно обработано {added_count} помещений из {len(premises)}\")\n    else:\n        print(\"Нет данных для тепловой карты\")\n        folium.Marker(\n            [55.76, 37.61],\n            popup='Нет данных по помещениям',\n            icon=folium.Icon(color='gray', icon='info-sign')\n        ).add_to(premises_group)\n\nexcept Exception as e:\n    print(f\"Ошибка создания слоя помещений: {e}\")\n    import traceback\n    traceback.print_exc()\n    folium.Marker(\n        [55.75, 37.62],\n        popup=f'Ошибка загрузки помещений: {e}',\n        icon=folium.Icon(color='red', icon='alert')\n    ).add_to(premises_group)\n\n# Добавляем слои на карту\npremises_group.add_to(m)\nheatmap_group.add_to(m)\n\nprint(\"Слои помещений добавлены на карту\")",
   "outputs": [
    {
     "name": "stdout",
     "output_type": "stream",
     "text": [
      "Успешно обработано 55453 помещений из 55458\n",
      "Слои помещений добавлены на карту\n"
     ]
    }
   ],
   "execution_count": 6
  },
  {
   "cell_type": "markdown",
   "id": "c60ecf0d",
   "metadata": {},
   "source": [
    "Создаем 4 слой (земельные участки)"
   ]
  },
  {
   "cell_type": "code",
   "id": "bcbe01db",
   "metadata": {
    "ExecuteTime": {
     "end_time": "2025-07-20T12:12:23.363279Z",
     "start_time": "2025-07-20T12:12:17.052201Z"
    }
   },
   "source": "try:\n    # 1. Загрузка данных с проверкой столбцов\n    land_plot = pd.read_csv(\n        \"land_plot.csv\",\n        sep=';',\n        encoding='utf-8',\n        skiprows=1\n    )\n    \n    # Проверяем наличие необходимых столбцов\n    required_columns = ['Кадастровый номер земельного участка', 'Площадь земельного участка (кв.м.)', 'geoData']\n    for col in required_columns:\n        if col not in land_plot.columns:\n            raise ValueError(f\"Отсутствует обязательный столбец: {col}\")\n    \n    # 2. Создаем идентификатор, если нет столбца ID\n    if 'ID' not in land_plot.columns:\n        land_plot['ID'] = land_plot['Кадастровый номер земельного участка']\n    \n    # 3. Обработка площади\n    def safe_convert(area):\n        try:\n            return float(str(area).replace(',', '.'))\n        except:\n            return 0.0\n    \n    land_plot['Area'] = land_plot['Площадь земельного участка (кв.м.)'].apply(safe_convert)\n    \n    # 4. Универсальный парсинг координат\n    def extract_coords(geo_str):\n        try:\n            if pd.isna(geo_str):\n                return None\n                \n            # Преобразуем в строку\n            geo_str = str(geo_str)\n            \n            # Ищем все пары координат\n            coord_pairs = re.findall(r'(\\d+\\.\\d+)[,\\s]+(\\d+\\.\\d+)', geo_str)\n            if len(coord_pairs) < 3:\n                return None\n                \n            # Преобразуем в (lon, lat)\n            coords = []\n            for pair in coord_pairs:\n                try:\n                    lon = float(pair[0])\n                    lat = float(pair[1])\n                    coords.append((lon, lat))\n                except:\n                    continue\n            \n            if len(coords) < 3:\n                return None\n                \n            # Вычисляем центр\n            lats = [p[1] for p in coords]\n            lons = [p[0] for p in coords]\n            center = [sum(lats)/len(lats), sum(lons)/len(lons)]\n            \n            return {\n                'center': center,\n                'coords': coords\n            }\n        except Exception as e:\n            print(f\"Ошибка обработки координат: {e}\")\n            return None\n    \n    # 5. Обработка данных\n    valid_plots = []\n    for idx, row in land_plot.iterrows():\n        coords = extract_coords(row['geoData'])\n        if coords:\n            valid_plots.append({\n                'id': row['ID'],\n                'cadastral': row['Кадастровый номер земельного участка'],\n                'area': row['Area'],\n                'center': coords['center'],\n                'point_count': len(coords['coords'])\n            })\n    \n    if not valid_plots:\n        raise ValueError(\"Не найдено участков с валидными координатами\")\n    \n    # 6. Создаем кластер маркеров\n    marker_cluster = MarkerCluster().add_to(land_group)\n    \n    # 7. Добавляем маркеры\n    for plot in valid_plots:\n        folium.Marker(\n            plot['center'],\n            popup=f\"\"\"\n                <b>Кадастр:</b> {plot['cadastral']}<br>\n                <b>Площадь:</b> {plot['area']:.1f} кв.м<br>\n                <b>Точек границы:</b> {plot['point_count']}\n            \"\"\",\n            icon=folium.Icon(icon='tree', color='green')\n        ).add_to(marker_cluster)\n    \n    print(f\"Успешно добавлено {len(valid_plots)} участков\")\n\nexcept Exception as e:\n    print(f\"Ошибка: {e}\")\n    folium.Marker(\n        [55.75, 37.61],\n        popup=f'Ошибка загрузки участков: {e}',\n        icon=folium.Icon(color='red', icon='alert')\n    ).add_to(land_group)\n\n# Добавляем слой на карту\nland_group.add_to(m)\n\nprint(\"Слой земельных участков добавлен на карту\")",
   "outputs": [
    {
     "name": "stdout",
     "output_type": "stream",
     "text": [
      "Успешно добавлено 100961 участков\n",
      "Слой земельных участков добавлен на карту\n"
     ]
    }
   ],
   "execution_count": 7
  },
  {
   "cell_type": "markdown",
   "id": "a8d09ca8",
   "metadata": {},
   "source": [
    "Дополнительные действия"
   ]
  },
  {
   "cell_type": "code",
   "id": "c2291814",
   "metadata": {
    "jupyter": {
     "is_executing": true
    },
    "ExecuteTime": {
     "start_time": "2025-07-20T12:12:23.417370Z"
    }
   },
   "source": "# Добавляем LayerControl для управления слоями\nlayer_control = folium.LayerControl(\n    position='topright',\n    collapsed=False,\n    autoZIndex=True\n).add_to(m)\n\n# Сохраняем карту\nm.save('final_map.html')\nprint(\"Карта сохранена как final_map.html\")\nprint(\"Всего слоев на карте: 5\")\nprint(\"- Объекты приватизации\")\nprint(\"- Объекты аренды\")\nprint(\"- Нежилые помещения\")\nprint(\"- Плотность нежилых помещений\")\nprint(\"- Земельные участки\")",
   "outputs": [],
   "execution_count": null
  },
  {
   "cell_type": "markdown",
   "id": "b37375ed",
   "metadata": {},
   "source": [
    "Сохраняем карту"
   ]
  }
 ],
 "metadata": {
  "kernelspec": {
   "display_name": "Python 3",
   "language": "python",
   "name": "python3"
  },
  "language_info": {
   "codemirror_mode": {
    "name": "ipython",
    "version": 3
   },
   "file_extension": ".py",
   "mimetype": "text/x-python",
   "name": "python",
   "nbconvert_exporter": "python",
   "pygments_lexer": "ipython3",
   "version": "3.13.4"
  }
 },
 "nbformat": 4,
 "nbformat_minor": 5
}
